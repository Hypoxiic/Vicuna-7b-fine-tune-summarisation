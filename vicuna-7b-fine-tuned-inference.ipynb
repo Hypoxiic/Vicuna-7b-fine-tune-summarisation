{
 "cells": [
  {
   "cell_type": "code",
   "execution_count": 1,
   "id": "7610db08",
   "metadata": {
    "execution": {
     "iopub.execute_input": "2024-02-03T22:00:40.160456Z",
     "iopub.status.busy": "2024-02-03T22:00:40.160072Z",
     "iopub.status.idle": "2024-02-03T22:01:07.682174Z",
     "shell.execute_reply": "2024-02-03T22:01:07.680808Z"
    },
    "papermill": {
     "duration": 27.529768,
     "end_time": "2024-02-03T22:01:07.684839",
     "exception": false,
     "start_time": "2024-02-03T22:00:40.155071",
     "status": "completed"
    },
    "tags": []
   },
   "outputs": [
    {
     "name": "stdout",
     "output_type": "stream",
     "text": [
      "Requirement already satisfied: transformers in /opt/conda/lib/python3.10/site-packages (4.30.2)\r\n",
      "Requirement already satisfied: filelock in /opt/conda/lib/python3.10/site-packages (from transformers) (3.12.2)\r\n",
      "Requirement already satisfied: huggingface-hub<1.0,>=0.14.1 in /opt/conda/lib/python3.10/site-packages (from transformers) (0.16.4)\r\n",
      "Requirement already satisfied: numpy>=1.17 in /opt/conda/lib/python3.10/site-packages (from transformers) (1.23.5)\r\n",
      "Requirement already satisfied: packaging>=20.0 in /opt/conda/lib/python3.10/site-packages (from transformers) (21.3)\r\n",
      "Requirement already satisfied: pyyaml>=5.1 in /opt/conda/lib/python3.10/site-packages (from transformers) (6.0)\r\n",
      "Requirement already satisfied: regex!=2019.12.17 in /opt/conda/lib/python3.10/site-packages (from transformers) (2023.6.3)\r\n",
      "Requirement already satisfied: requests in /opt/conda/lib/python3.10/site-packages (from transformers) (2.31.0)\r\n",
      "Requirement already satisfied: tokenizers!=0.11.3,<0.14,>=0.11.1 in /opt/conda/lib/python3.10/site-packages (from transformers) (0.13.3)\r\n",
      "Requirement already satisfied: safetensors>=0.3.1 in /opt/conda/lib/python3.10/site-packages (from transformers) (0.3.1)\r\n",
      "Requirement already satisfied: tqdm>=4.27 in /opt/conda/lib/python3.10/site-packages (from transformers) (4.65.0)\r\n",
      "Requirement already satisfied: fsspec in /opt/conda/lib/python3.10/site-packages (from huggingface-hub<1.0,>=0.14.1->transformers) (2023.6.0)\r\n",
      "Requirement already satisfied: typing-extensions>=3.7.4.3 in /opt/conda/lib/python3.10/site-packages (from huggingface-hub<1.0,>=0.14.1->transformers) (4.6.3)\r\n",
      "Requirement already satisfied: pyparsing!=3.0.5,>=2.0.2 in /opt/conda/lib/python3.10/site-packages (from packaging>=20.0->transformers) (3.0.9)\r\n",
      "Requirement already satisfied: charset-normalizer<4,>=2 in /opt/conda/lib/python3.10/site-packages (from requests->transformers) (3.1.0)\r\n",
      "Requirement already satisfied: idna<4,>=2.5 in /opt/conda/lib/python3.10/site-packages (from requests->transformers) (3.4)\r\n",
      "Requirement already satisfied: urllib3<3,>=1.21.1 in /opt/conda/lib/python3.10/site-packages (from requests->transformers) (1.26.15)\r\n",
      "Requirement already satisfied: certifi>=2017.4.17 in /opt/conda/lib/python3.10/site-packages (from requests->transformers) (2023.5.7)\r\n"
     ]
    }
   ],
   "source": [
    "!pip install transformers\n",
    "!pip install -q -U bitsandbytes\n",
    "# !pip install -q -U git+https://github.com/huggingface/peft.git\n",
    "# !pip install -q -U git+https://github.com/huggingface/accelerate.git"
   ]
  },
  {
   "cell_type": "code",
   "execution_count": 2,
   "id": "e1674fe4",
   "metadata": {
    "execution": {
     "iopub.execute_input": "2024-02-03T22:01:07.694263Z",
     "iopub.status.busy": "2024-02-03T22:01:07.693410Z",
     "iopub.status.idle": "2024-02-03T22:01:07.698849Z",
     "shell.execute_reply": "2024-02-03T22:01:07.698183Z"
    },
    "papermill": {
     "duration": 0.012028,
     "end_time": "2024-02-03T22:01:07.700747",
     "exception": false,
     "start_time": "2024-02-03T22:01:07.688719",
     "status": "completed"
    },
    "tags": []
   },
   "outputs": [],
   "source": [
    "## Merging base model and fine-tuned params\n",
    "# from transformers import AutoModelForCausalLM, AutoTokenizer\n",
    "# from peft import PeftModel\n",
    "# import torch\n",
    "\n",
    "# def merge_models(base_model_name_or_path, peft_model_path, output_dir, device=\"auto\", push_to_hub=False):\n",
    "#     if device == 'auto':\n",
    "#         device_arg = {'device_map': 'auto'}\n",
    "#     else:\n",
    "#         device_arg = {'device_map': {\"\": device}}\n",
    "\n",
    "#     print(f\"Loading base model: {base_model_name_or_path}\")\n",
    "#     base_model = AutoModelForCausalLM.from_pretrained(\n",
    "#         base_model_name_or_path,\n",
    "#         return_dict=True,\n",
    "#         torch_dtype=torch.float16,\n",
    "#         **device_arg\n",
    "#     )\n",
    "\n",
    "#     print(f\"Loading PEFT: {peft_model_path}\")\n",
    "#     model = PeftModel.from_pretrained(base_model, peft_model_path, **device_arg)\n",
    "#     print(f\"Running merge_and_unload\")\n",
    "#     model = model.merge_and_unload()\n",
    "\n",
    "#     tokenizer = AutoTokenizer.from_pretrained(base_model_name_or_path)\n",
    "\n",
    "#     if push_to_hub:\n",
    "#         print(f\"Saving to hub ...\")\n",
    "#         model.push_to_hub(f\"{output_dir}\", use_temp_dir=False)\n",
    "#         tokenizer.push_to_hub(f\"{output_dir}\", use_temp_dir=False)\n",
    "#     else:\n",
    "#         model.save_pretrained(f\"{output_dir}\")\n",
    "#         tokenizer.save_pretrained(f\"{output_dir}\")\n",
    "#         print(f\"Model saved to {output_dir}\")"
   ]
  },
  {
   "cell_type": "code",
   "execution_count": 3,
   "id": "4e5686b0",
   "metadata": {
    "execution": {
     "iopub.execute_input": "2024-02-03T22:01:07.709216Z",
     "iopub.status.busy": "2024-02-03T22:01:07.708664Z",
     "iopub.status.idle": "2024-02-03T22:01:07.712417Z",
     "shell.execute_reply": "2024-02-03T22:01:07.711644Z"
    },
    "papermill": {
     "duration": 0.009893,
     "end_time": "2024-02-03T22:01:07.714235",
     "exception": false,
     "start_time": "2024-02-03T22:01:07.704342",
     "status": "completed"
    },
    "tags": []
   },
   "outputs": [],
   "source": [
    "# base_model_name_or_path = \"lmsys/vicuna-7b-v1.3\" # Path to the original base model\n",
    "# peft_model_path = \"/kaggle/input/vicuna-7b-fine-tuned\" # Path to the directory containing the fine-tuned model\n",
    "# output_dir = \"/kaggle/working/merged_model/\" # Path to the desired output directory\n",
    "\n",
    "# merge_models(base_model_name_or_path, peft_model_path, output_dir)"
   ]
  },
  {
   "cell_type": "code",
   "execution_count": 4,
   "id": "5e8fefbb",
   "metadata": {
    "execution": {
     "iopub.execute_input": "2024-02-03T22:01:07.722102Z",
     "iopub.status.busy": "2024-02-03T22:01:07.721567Z",
     "iopub.status.idle": "2024-02-03T22:03:43.729049Z",
     "shell.execute_reply": "2024-02-03T22:03:43.728160Z"
    },
    "papermill": {
     "duration": 156.0138,
     "end_time": "2024-02-03T22:03:43.731329",
     "exception": false,
     "start_time": "2024-02-03T22:01:07.717529",
     "status": "completed"
    },
    "tags": []
   },
   "outputs": [
    {
     "name": "stderr",
     "output_type": "stream",
     "text": [
      "/opt/conda/lib/python3.10/site-packages/scipy/__init__.py:146: UserWarning: A NumPy version >=1.16.5 and <1.23.0 is required for this version of SciPy (detected version 1.23.5\n",
      "  warnings.warn(f\"A NumPy version >={np_minversion} and <{np_maxversion}\"\n",
      "/opt/conda/lib/python3.10/site-packages/tensorflow_io/python/ops/__init__.py:98: UserWarning: unable to load libtensorflow_io_plugins.so: unable to open file: libtensorflow_io_plugins.so, from paths: ['/opt/conda/lib/python3.10/site-packages/tensorflow_io/python/ops/libtensorflow_io_plugins.so']\n",
      "caused by: ['/opt/conda/lib/python3.10/site-packages/tensorflow_io/python/ops/libtensorflow_io_plugins.so: undefined symbol: _ZN3tsl6StatusC1EN10tensorflow5error4CodeESt17basic_string_viewIcSt11char_traitsIcEENS_14SourceLocationE']\n",
      "  warnings.warn(f\"unable to load libtensorflow_io_plugins.so: {e}\")\n",
      "/opt/conda/lib/python3.10/site-packages/tensorflow_io/python/ops/__init__.py:104: UserWarning: file system plugins are not loaded: unable to open file: libtensorflow_io.so, from paths: ['/opt/conda/lib/python3.10/site-packages/tensorflow_io/python/ops/libtensorflow_io.so']\n",
      "caused by: ['/opt/conda/lib/python3.10/site-packages/tensorflow_io/python/ops/libtensorflow_io.so: undefined symbol: _ZTVN10tensorflow13GcsFileSystemE']\n",
      "  warnings.warn(f\"file system plugins are not loaded: {e}\")\n"
     ]
    },
    {
     "data": {
      "application/vnd.jupyter.widget-view+json": {
       "model_id": "75d5138a354b483cb25bd1e934e2c094",
       "version_major": 2,
       "version_minor": 0
      },
      "text/plain": [
       "Loading checkpoint shards:   0%|          | 0/2 [00:00<?, ?it/s]"
      ]
     },
     "metadata": {},
     "output_type": "display_data"
    }
   ],
   "source": [
    "from transformers import AutoModelForCausalLM, AutoTokenizer\n",
    "\n",
    "model_path = \"/kaggle/input/vicuna-7b-fine-tuned-merged-model\"\n",
    "tokenizer_path = \"/kaggle/input/vicuna-7b-fine-tuned-merged-model\"\n",
    "\n",
    "model = AutoModelForCausalLM.from_pretrained(model_path, load_in_4bit=True)\n",
    "tokenizer = AutoTokenizer.from_pretrained(tokenizer_path)"
   ]
  },
  {
   "cell_type": "code",
   "execution_count": 5,
   "id": "c820f9f6",
   "metadata": {
    "execution": {
     "iopub.execute_input": "2024-02-03T22:03:43.740918Z",
     "iopub.status.busy": "2024-02-03T22:03:43.740214Z",
     "iopub.status.idle": "2024-02-03T22:03:43.745516Z",
     "shell.execute_reply": "2024-02-03T22:03:43.744615Z"
    },
    "papermill": {
     "duration": 0.012079,
     "end_time": "2024-02-03T22:03:43.747570",
     "exception": false,
     "start_time": "2024-02-03T22:03:43.735491",
     "status": "completed"
    },
    "tags": []
   },
   "outputs": [],
   "source": [
    "def summarize(paragraph):\n",
    "    # Tokenize the input paragraph\n",
    "    input_tokens = tokenizer.encode(paragraph, return_tensors='pt', truncation=True)\n",
    "    \n",
    "    # Generate summary using the model\n",
    "    summary_ids = model.generate(input_tokens, max_new_tokens=256)\n",
    "    \n",
    "    # Decode the summary and return\n",
    "    summary = tokenizer.decode(summary_ids[0], skip_special_tokens=True)\n",
    "    return summary\n"
   ]
  },
  {
   "cell_type": "code",
   "execution_count": 6,
   "id": "76ea87fd",
   "metadata": {
    "execution": {
     "iopub.execute_input": "2024-02-03T22:03:43.756398Z",
     "iopub.status.busy": "2024-02-03T22:03:43.756145Z",
     "iopub.status.idle": "2024-02-03T22:03:43.762109Z",
     "shell.execute_reply": "2024-02-03T22:03:43.761302Z"
    },
    "papermill": {
     "duration": 0.012704,
     "end_time": "2024-02-03T22:03:43.763994",
     "exception": false,
     "start_time": "2024-02-03T22:03:43.751290",
     "status": "completed"
    },
    "tags": []
   },
   "outputs": [],
   "source": [
    "paragraph = \"\"\"In the tranquil town of Willowbrook, nestled between emerald hills and sparkling rivers, there resided a curious inventor named Oliver. Oliver's workshop was a haven of creativity, filled with gears, cogs, blueprints, and mysterious gadgets that whirred and buzzed at all hours. His mind was a whirlpool of ideas, constantly churning out innovative concepts that were far ahead of his time.\n",
    "\n",
    "Oliver's latest invention was a mechanical bird, designed with intricate detail to mimic the flight and song of a real bird. Crafted from brass and adorned with delicate feathers, it was a marvel of engineering. Oliver spent countless nights fine-tuning the wings, programming the melody, and ensuring that every movement was graceful and lifelike.\n",
    "\n",
    "The townsfolk of Willowbrook were often skeptical of Oliver's eccentric ways, but they couldn't deny the charm of his mechanical bird. Children would gather outside his window, eyes wide with wonder, as the bird took flight, circling the room and filling the air with a sweet, melodious tune. It was not just a machine; it was a piece of art, a symbol of human ingenuity and the endless possibilities of the mind.\n",
    "\n",
    "Oliver's inventions were not driven by fame or fortune but by an insatiable curiosity and a desire to push the boundaries of what was possible. He believed that technology could be harnessed to create beauty, to inspire, and to bring joy to people's lives. His mechanical bird was a testament to that belief.\n",
    "\n",
    "But Oliver's creativity was not without challenges. The path to innovation was fraught with obstacles, failures, and doubts. There were moments when he questioned his abilities, when the solutions seemed elusive, and the problems insurmountable. Yet, he persevered, driven by a relentless passion and a conviction that he was on the brink of something extraordinary.\n",
    "\n",
    "As the years went by, Oliver's reputation grew, and his workshop became a place of pilgrimage for aspiring inventors and thinkers. They came to learn, to be inspired, and to witness the magic that was born from the fusion of art and science. Oliver's mechanical bird was no longer just a local curiosity; it was a symbol of human potential, a reminder that creativity knows no bounds, and that the pursuit of excellence is a journey worth taking.\n",
    "\n",
    "In the end, Oliver's legacy was not defined by the inventions he created but by the lives he touched, the minds he ignited, and the sense of wonder he instilled in those who were fortunate enough to cross his path. His mechanical bird, perched on a shelf in his workshop, continued to sing its song, a timeless melody that resonated with the dreamers, the doers, and the believers in the extraordinary power of human creativity.\"\"\""
   ]
  },
  {
   "cell_type": "code",
   "execution_count": 7,
   "id": "e8773507",
   "metadata": {
    "execution": {
     "iopub.execute_input": "2024-02-03T22:03:43.772283Z",
     "iopub.status.busy": "2024-02-03T22:03:43.772022Z",
     "iopub.status.idle": "2024-02-03T22:03:43.776052Z",
     "shell.execute_reply": "2024-02-03T22:03:43.775211Z"
    },
    "papermill": {
     "duration": 0.010214,
     "end_time": "2024-02-03T22:03:43.777856",
     "exception": false,
     "start_time": "2024-02-03T22:03:43.767642",
     "status": "completed"
    },
    "tags": []
   },
   "outputs": [],
   "source": [
    "    prompt = (\n",
    "        f\"Below is an instruction that describes a task. Write a response that appropriately completes the request. ###\\n\"\n",
    "        f\"Instruction: You are tasked to write a summarisation of a body of text. You must only reply with the summarisation of the following text: <text>{paragraph}<text> ###\\n\"\n",
    "        f\"Response: \"\n",
    "    )"
   ]
  },
  {
   "cell_type": "code",
   "execution_count": 8,
   "id": "ea8b6eac",
   "metadata": {
    "execution": {
     "iopub.execute_input": "2024-02-03T22:03:43.786365Z",
     "iopub.status.busy": "2024-02-03T22:03:43.785857Z",
     "iopub.status.idle": "2024-02-03T22:04:04.037986Z",
     "shell.execute_reply": "2024-02-03T22:04:04.036986Z"
    },
    "papermill": {
     "duration": 20.258825,
     "end_time": "2024-02-03T22:04:04.040405",
     "exception": false,
     "start_time": "2024-02-03T22:03:43.781580",
     "status": "completed"
    },
    "tags": []
   },
   "outputs": [
    {
     "name": "stderr",
     "output_type": "stream",
     "text": [
      "/opt/conda/lib/python3.10/site-packages/transformers/generation/utils.py:1452: UserWarning: You are calling .generate() with the `input_ids` being on a device type different than your model's device. `input_ids` is on cpu, whereas the model is on cuda. You may experience unexpected behaviors or slower generation. Please make sure that you have put `input_ids` to the correct device by calling for example input_ids = input_ids.to('cuda') before running `.generate()`.\n",
      "  warnings.warn(\n",
      "/opt/conda/lib/python3.10/site-packages/bitsandbytes/nn/modules.py:226: UserWarning: Input type into Linear4bit is torch.float16, but bnb_4bit_compute_dtype=torch.float32 (default). This will lead to slow inference or training speed.\n",
      "  warnings.warn(f'Input type into Linear4bit is torch.float16, but bnb_4bit_compute_dtype=torch.float32 (default). This will lead to slow inference or training speed.')\n"
     ]
    },
    {
     "name": "stdout",
     "output_type": "stream",
     "text": [
      "Original Paragraph: In the tranquil town of Willowbrook, nestled between emerald hills and sparkling rivers, there resided a curious inventor named Oliver. Oliver's workshop was a haven of creativity, filled with gears, cogs, blueprints, and mysterious gadgets that whirred and buzzed at all hours. His mind was a whirlpool of ideas, constantly churning out innovative concepts that were far ahead of his time.\n",
      "\n",
      "Oliver's latest invention was a mechanical bird, designed with intricate detail to mimic the flight and song of a real bird. Crafted from brass and adorned with delicate feathers, it was a marvel of engineering. Oliver spent countless nights fine-tuning the wings, programming the melody, and ensuring that every movement was graceful and lifelike.\n",
      "\n",
      "The townsfolk of Willowbrook were often skeptical of Oliver's eccentric ways, but they couldn't deny the charm of his mechanical bird. Children would gather outside his window, eyes wide with wonder, as the bird took flight, circling the room and filling the air with a sweet, melodious tune. It was not just a machine; it was a piece of art, a symbol of human ingenuity and the endless possibilities of the mind.\n",
      "\n",
      "Oliver's inventions were not driven by fame or fortune but by an insatiable curiosity and a desire to push the boundaries of what was possible. He believed that technology could be harnessed to create beauty, to inspire, and to bring joy to people's lives. His mechanical bird was a testament to that belief.\n",
      "\n",
      "But Oliver's creativity was not without challenges. The path to innovation was fraught with obstacles, failures, and doubts. There were moments when he questioned his abilities, when the solutions seemed elusive, and the problems insurmountable. Yet, he persevered, driven by a relentless passion and a conviction that he was on the brink of something extraordinary.\n",
      "\n",
      "As the years went by, Oliver's reputation grew, and his workshop became a place of pilgrimage for aspiring inventors and thinkers. They came to learn, to be inspired, and to witness the magic that was born from the fusion of art and science. Oliver's mechanical bird was no longer just a local curiosity; it was a symbol of human potential, a reminder that creativity knows no bounds, and that the pursuit of excellence is a journey worth taking.\n",
      "\n",
      "In the end, Oliver's legacy was not defined by the inventions he created but by the lives he touched, the minds he ignited, and the sense of wonder he instilled in those who were fortunate enough to cross his path. His mechanical bird, perched on a shelf in his workshop, continued to sing its song, a timeless melody that resonated with the dreamers, the doers, and the believers in the extraordinary power of human creativity.\n",
      "Summary: Below is an instruction that describes a task. Write a response that appropriately completes the request. ###\n",
      "Instruction: You are tasked to write a summarisation of a body of text. You must only reply with the summarisation of the following text: <text>In the tranquil town of Willowbrook, nestled between emerald hills and sparkling rivers, there resided a curious inventor named Oliver. Oliver's workshop was a haven of creativity, filled with gears, cogs, blueprints, and mysterious gadgets that whirred and buzzed at all hours. His mind was a whirlpool of ideas, constantly churning out innovative concepts that were far ahead of his time.\n",
      "\n",
      "Oliver's latest invention was a mechanical bird, designed with intricate detail to mimic the flight and song of a real bird. Crafted from brass and adorned with delicate feathers, it was a marvel of engineering. Oliver spent countless nights fine-tuning the wings, programming the melody, and ensuring that every movement was graceful and lifelike.\n",
      "\n",
      "The townsfolk of Willowbrook were often skeptical of Oliver's eccentric ways, but they couldn't deny the charm of his mechanical bird. Children would gather outside his window, eyes wide with wonder, as the bird took flight, circling the room and filling the air with a sweet, melodious tune. It was not just a machine; it was a piece of art, a symbol of human ingenuity and the endless possibilities of the mind.\n",
      "\n",
      "Oliver's inventions were not driven by fame or fortune but by an insatiable curiosity and a desire to push the boundaries of what was possible. He believed that technology could be harnessed to create beauty, to inspire, and to bring joy to people's lives. His mechanical bird was a testament to that belief.\n",
      "\n",
      "But Oliver's creativity was not without challenges. The path to innovation was fraught with obstacles, failures, and doubts. There were moments when he questioned his abilities, when the solutions seemed elusive, and the problems insurmountable. Yet, he persevered, driven by a relentless passion and a conviction that he was on the brink of something extraordinary.\n",
      "\n",
      "As the years went by, Oliver's reputation grew, and his workshop became a place of pilgrimage for aspiring inventors and thinkers. They came to learn, to be inspired, and to witness the magic that was born from the fusion of art and science. Oliver's mechanical bird was no longer just a local curiosity; it was a symbol of human potential, a reminder that creativity knows no bounds, and that the pursuit of excellence is a journey worth taking.\n",
      "\n",
      "In the end, Oliver's legacy was not defined by the inventions he created but by the lives he touched, the minds he ignited, and the sense of wonder he instilled in those who were fortunate enough to cross his path. His mechanical bird, perched on a shelf in his workshop, continued to sing its song, a timeless melody that resonated with the dreamers, the doers, and the believers in the extraordinary power of human creativity.<text> ###\n",
      "Response:  thequ town Willbro,led emer hills spark rivers thereided a invent named. Oliversshop a of cre, withears g,ogs blues myster gets and cre gets myster gets Oliver' mind a whpool ideas constantlyurning innov concepts were ahead his.\n",
      " Olivers in was mechanical, designed intr detail mic the and of bird.assed br andorn with fe, it a of art a of ingity the possibilities the.\n",
      " towns ofow Willbro were skeical Oliver' eccric, but couldn den the charm his bird. would gather Oliver' window eyes wide wonder as bird flighted the,ling the air a sweet meliousune It not a but a of, a of art a ofity the possibilities the\n",
      " Oliver' belief technology beed har to beauty insp, insp and joy people' lives His bird aament his belief\n",
      " But Oliver' cre was fraht obst, fail, doub. moments he hisabilities question, solutions elive insmount, problemsinsable. perver, by relless and conv that was the of something.\n",
      " the years, Oliver' grew and work became place pilage asp invent anders anders came learn be inspired witness magic born fusion art science Oliver' bird no longer\n"
     ]
    }
   ],
   "source": [
    "summary = summarize(prompt)\n",
    "print(\"Original Paragraph:\", paragraph)\n",
    "print(\"Summary:\", summary)"
   ]
  }
 ],
 "metadata": {
  "kaggle": {
   "accelerator": "gpu",
   "dataSources": [
    {
     "datasetId": 3640867,
     "sourceId": 6325965,
     "sourceType": "datasetVersion"
    }
   ],
   "dockerImageVersionId": 30527,
   "isGpuEnabled": true,
   "isInternetEnabled": true,
   "language": "python",
   "sourceType": "notebook"
  },
  "kernelspec": {
   "display_name": "Python 3",
   "language": "python",
   "name": "python3"
  },
  "language_info": {
   "codemirror_mode": {
    "name": "ipython",
    "version": 3
   },
   "file_extension": ".py",
   "mimetype": "text/x-python",
   "name": "python",
   "nbconvert_exporter": "python",
   "pygments_lexer": "ipython3",
   "version": "3.10.12"
  },
  "papermill": {
   "default_parameters": {},
   "duration": 216.784993,
   "end_time": "2024-02-03T22:04:06.958299",
   "environment_variables": {},
   "exception": null,
   "input_path": "__notebook__.ipynb",
   "output_path": "__notebook__.ipynb",
   "parameters": {},
   "start_time": "2024-02-03T22:00:30.173306",
   "version": "2.4.0"
  },
  "widgets": {
   "application/vnd.jupyter.widget-state+json": {
    "state": {
     "33db48b7cdd549d480f55c814836334f": {
      "model_module": "@jupyter-widgets/base",
      "model_module_version": "1.2.0",
      "model_name": "LayoutModel",
      "state": {
       "_model_module": "@jupyter-widgets/base",
       "_model_module_version": "1.2.0",
       "_model_name": "LayoutModel",
       "_view_count": null,
       "_view_module": "@jupyter-widgets/base",
       "_view_module_version": "1.2.0",
       "_view_name": "LayoutView",
       "align_content": null,
       "align_items": null,
       "align_self": null,
       "border": null,
       "bottom": null,
       "display": null,
       "flex": null,
       "flex_flow": null,
       "grid_area": null,
       "grid_auto_columns": null,
       "grid_auto_flow": null,
       "grid_auto_rows": null,
       "grid_column": null,
       "grid_gap": null,
       "grid_row": null,
       "grid_template_areas": null,
       "grid_template_columns": null,
       "grid_template_rows": null,
       "height": null,
       "justify_content": null,
       "justify_items": null,
       "left": null,
       "margin": null,
       "max_height": null,
       "max_width": null,
       "min_height": null,
       "min_width": null,
       "object_fit": null,
       "object_position": null,
       "order": null,
       "overflow": null,
       "overflow_x": null,
       "overflow_y": null,
       "padding": null,
       "right": null,
       "top": null,
       "visibility": null,
       "width": null
      }
     },
     "72d9e722cbb64099aaa7ad71746d7e74": {
      "model_module": "@jupyter-widgets/controls",
      "model_module_version": "1.5.0",
      "model_name": "DescriptionStyleModel",
      "state": {
       "_model_module": "@jupyter-widgets/controls",
       "_model_module_version": "1.5.0",
       "_model_name": "DescriptionStyleModel",
       "_view_count": null,
       "_view_module": "@jupyter-widgets/base",
       "_view_module_version": "1.2.0",
       "_view_name": "StyleView",
       "description_width": ""
      }
     },
     "75d5138a354b483cb25bd1e934e2c094": {
      "model_module": "@jupyter-widgets/controls",
      "model_module_version": "1.5.0",
      "model_name": "HBoxModel",
      "state": {
       "_dom_classes": [],
       "_model_module": "@jupyter-widgets/controls",
       "_model_module_version": "1.5.0",
       "_model_name": "HBoxModel",
       "_view_count": null,
       "_view_module": "@jupyter-widgets/controls",
       "_view_module_version": "1.5.0",
       "_view_name": "HBoxView",
       "box_style": "",
       "children": [
        "IPY_MODEL_8e2400a8706d48638d41ffedddc29e32",
        "IPY_MODEL_eb1899978698431c9a3eeba889fba19e",
        "IPY_MODEL_f5fe76f77c4546cb97454474e5715837"
       ],
       "layout": "IPY_MODEL_33db48b7cdd549d480f55c814836334f"
      }
     },
     "7ca12fea4bef44f984deacedf3a1afd6": {
      "model_module": "@jupyter-widgets/base",
      "model_module_version": "1.2.0",
      "model_name": "LayoutModel",
      "state": {
       "_model_module": "@jupyter-widgets/base",
       "_model_module_version": "1.2.0",
       "_model_name": "LayoutModel",
       "_view_count": null,
       "_view_module": "@jupyter-widgets/base",
       "_view_module_version": "1.2.0",
       "_view_name": "LayoutView",
       "align_content": null,
       "align_items": null,
       "align_self": null,
       "border": null,
       "bottom": null,
       "display": null,
       "flex": null,
       "flex_flow": null,
       "grid_area": null,
       "grid_auto_columns": null,
       "grid_auto_flow": null,
       "grid_auto_rows": null,
       "grid_column": null,
       "grid_gap": null,
       "grid_row": null,
       "grid_template_areas": null,
       "grid_template_columns": null,
       "grid_template_rows": null,
       "height": null,
       "justify_content": null,
       "justify_items": null,
       "left": null,
       "margin": null,
       "max_height": null,
       "max_width": null,
       "min_height": null,
       "min_width": null,
       "object_fit": null,
       "object_position": null,
       "order": null,
       "overflow": null,
       "overflow_x": null,
       "overflow_y": null,
       "padding": null,
       "right": null,
       "top": null,
       "visibility": null,
       "width": null
      }
     },
     "8a798d3b113e4e608f24a2e236975fa8": {
      "model_module": "@jupyter-widgets/controls",
      "model_module_version": "1.5.0",
      "model_name": "DescriptionStyleModel",
      "state": {
       "_model_module": "@jupyter-widgets/controls",
       "_model_module_version": "1.5.0",
       "_model_name": "DescriptionStyleModel",
       "_view_count": null,
       "_view_module": "@jupyter-widgets/base",
       "_view_module_version": "1.2.0",
       "_view_name": "StyleView",
       "description_width": ""
      }
     },
     "8e2400a8706d48638d41ffedddc29e32": {
      "model_module": "@jupyter-widgets/controls",
      "model_module_version": "1.5.0",
      "model_name": "HTMLModel",
      "state": {
       "_dom_classes": [],
       "_model_module": "@jupyter-widgets/controls",
       "_model_module_version": "1.5.0",
       "_model_name": "HTMLModel",
       "_view_count": null,
       "_view_module": "@jupyter-widgets/controls",
       "_view_module_version": "1.5.0",
       "_view_name": "HTMLView",
       "description": "",
       "description_tooltip": null,
       "layout": "IPY_MODEL_db4756bc8df0427f880439c381432ec2",
       "placeholder": "​",
       "style": "IPY_MODEL_8a798d3b113e4e608f24a2e236975fa8",
       "value": "Loading checkpoint shards: 100%"
      }
     },
     "b38e3b9341584dc4a8411a4139ef6913": {
      "model_module": "@jupyter-widgets/controls",
      "model_module_version": "1.5.0",
      "model_name": "ProgressStyleModel",
      "state": {
       "_model_module": "@jupyter-widgets/controls",
       "_model_module_version": "1.5.0",
       "_model_name": "ProgressStyleModel",
       "_view_count": null,
       "_view_module": "@jupyter-widgets/base",
       "_view_module_version": "1.2.0",
       "_view_name": "StyleView",
       "bar_color": null,
       "description_width": ""
      }
     },
     "db4756bc8df0427f880439c381432ec2": {
      "model_module": "@jupyter-widgets/base",
      "model_module_version": "1.2.0",
      "model_name": "LayoutModel",
      "state": {
       "_model_module": "@jupyter-widgets/base",
       "_model_module_version": "1.2.0",
       "_model_name": "LayoutModel",
       "_view_count": null,
       "_view_module": "@jupyter-widgets/base",
       "_view_module_version": "1.2.0",
       "_view_name": "LayoutView",
       "align_content": null,
       "align_items": null,
       "align_self": null,
       "border": null,
       "bottom": null,
       "display": null,
       "flex": null,
       "flex_flow": null,
       "grid_area": null,
       "grid_auto_columns": null,
       "grid_auto_flow": null,
       "grid_auto_rows": null,
       "grid_column": null,
       "grid_gap": null,
       "grid_row": null,
       "grid_template_areas": null,
       "grid_template_columns": null,
       "grid_template_rows": null,
       "height": null,
       "justify_content": null,
       "justify_items": null,
       "left": null,
       "margin": null,
       "max_height": null,
       "max_width": null,
       "min_height": null,
       "min_width": null,
       "object_fit": null,
       "object_position": null,
       "order": null,
       "overflow": null,
       "overflow_x": null,
       "overflow_y": null,
       "padding": null,
       "right": null,
       "top": null,
       "visibility": null,
       "width": null
      }
     },
     "eb1899978698431c9a3eeba889fba19e": {
      "model_module": "@jupyter-widgets/controls",
      "model_module_version": "1.5.0",
      "model_name": "FloatProgressModel",
      "state": {
       "_dom_classes": [],
       "_model_module": "@jupyter-widgets/controls",
       "_model_module_version": "1.5.0",
       "_model_name": "FloatProgressModel",
       "_view_count": null,
       "_view_module": "@jupyter-widgets/controls",
       "_view_module_version": "1.5.0",
       "_view_name": "ProgressView",
       "bar_style": "success",
       "description": "",
       "description_tooltip": null,
       "layout": "IPY_MODEL_ee3034a8f0b34d87ae41b5b4af289ec7",
       "max": 2.0,
       "min": 0.0,
       "orientation": "horizontal",
       "style": "IPY_MODEL_b38e3b9341584dc4a8411a4139ef6913",
       "value": 2.0
      }
     },
     "ee3034a8f0b34d87ae41b5b4af289ec7": {
      "model_module": "@jupyter-widgets/base",
      "model_module_version": "1.2.0",
      "model_name": "LayoutModel",
      "state": {
       "_model_module": "@jupyter-widgets/base",
       "_model_module_version": "1.2.0",
       "_model_name": "LayoutModel",
       "_view_count": null,
       "_view_module": "@jupyter-widgets/base",
       "_view_module_version": "1.2.0",
       "_view_name": "LayoutView",
       "align_content": null,
       "align_items": null,
       "align_self": null,
       "border": null,
       "bottom": null,
       "display": null,
       "flex": null,
       "flex_flow": null,
       "grid_area": null,
       "grid_auto_columns": null,
       "grid_auto_flow": null,
       "grid_auto_rows": null,
       "grid_column": null,
       "grid_gap": null,
       "grid_row": null,
       "grid_template_areas": null,
       "grid_template_columns": null,
       "grid_template_rows": null,
       "height": null,
       "justify_content": null,
       "justify_items": null,
       "left": null,
       "margin": null,
       "max_height": null,
       "max_width": null,
       "min_height": null,
       "min_width": null,
       "object_fit": null,
       "object_position": null,
       "order": null,
       "overflow": null,
       "overflow_x": null,
       "overflow_y": null,
       "padding": null,
       "right": null,
       "top": null,
       "visibility": null,
       "width": null
      }
     },
     "f5fe76f77c4546cb97454474e5715837": {
      "model_module": "@jupyter-widgets/controls",
      "model_module_version": "1.5.0",
      "model_name": "HTMLModel",
      "state": {
       "_dom_classes": [],
       "_model_module": "@jupyter-widgets/controls",
       "_model_module_version": "1.5.0",
       "_model_name": "HTMLModel",
       "_view_count": null,
       "_view_module": "@jupyter-widgets/controls",
       "_view_module_version": "1.5.0",
       "_view_name": "HTMLView",
       "description": "",
       "description_tooltip": null,
       "layout": "IPY_MODEL_7ca12fea4bef44f984deacedf3a1afd6",
       "placeholder": "​",
       "style": "IPY_MODEL_72d9e722cbb64099aaa7ad71746d7e74",
       "value": " 2/2 [02:21&lt;00:00, 65.03s/it]"
      }
     }
    },
    "version_major": 2,
    "version_minor": 0
   }
  }
 },
 "nbformat": 4,
 "nbformat_minor": 5
}
